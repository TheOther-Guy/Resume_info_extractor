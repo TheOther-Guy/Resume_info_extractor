{
 "cells": [
  {
   "cell_type": "markdown",
   "id": "e6b281ba",
   "metadata": {},
   "source": [
    "### for spacy installation use this link \n",
    "- https://spacy.io/usage"
   ]
  },
  {
   "cell_type": "markdown",
   "id": "13d1c1be",
   "metadata": {},
   "source": [
    "### Most used re \"regex\" package methods\n",
    "- re.match()\n",
    "- re.search()\n",
    "- re.find_all()\n",
    "- re.split()\n",
    "- re.sub()\n",
    "- re.compile()"
   ]
  },
  {
   "cell_type": "code",
   "execution_count": 14,
   "id": "e39318a2",
   "metadata": {},
   "outputs": [
    {
     "ename": "IndentationError",
     "evalue": "unexpected indent (<ipython-input-14-b494a3738c36>, line 2)",
     "output_type": "error",
     "traceback": [
      "\u001b[1;36m  File \u001b[1;32m\"<ipython-input-14-b494a3738c36>\"\u001b[1;36m, line \u001b[1;32m2\u001b[0m\n\u001b[1;33m    -*- coding: utf-8 -*-\u001b[0m\n\u001b[1;37m    ^\u001b[0m\n\u001b[1;31mIndentationError\u001b[0m\u001b[1;31m:\u001b[0m unexpected indent\n"
     ]
    }
   ],
   "source": [
    "!/usr/bin/env python\n",
    "-*- coding: utf-8 -*-"
   ]
  },
  {
   "cell_type": "code",
   "execution_count": 1,
   "id": "275f8c21",
   "metadata": {},
   "outputs": [],
   "source": [
    "#importing libraries\n",
    "import pdfminer  # pdf2txt\n",
    "import pandas as pd  # data manipulation\n",
    "import re   # regular exression manipulation\n",
    "import os   # operating system commands\n",
    "import spacy  #NLP  \"natural language processing\""
   ]
  },
  {
   "cell_type": "code",
   "execution_count": 2,
   "id": "ff25f1ad",
   "metadata": {},
   "outputs": [],
   "source": [
    "import pdf2txt"
   ]
  },
  {
   "cell_type": "markdown",
   "id": "d98dfb1e",
   "metadata": {},
   "source": [
    "## converting pdf to text"
   ]
  },
  {
   "cell_type": "code",
   "execution_count": 24,
   "id": "ca6806b1",
   "metadata": {},
   "outputs": [],
   "source": [
    "def convert_pdf(f):\n",
    "    output_filename = os.path.basename(os.path.splitext(f)[0]) + \".txt\"\n",
    "    output_filepath = os.path.join(\"output/txt/\", output_filename)\n",
    "    pdf2txt.main(args=[f, \"--outfile\", output_filepath]) # pdf to text and save\n",
    "    print(output_filepath + \" \" +\"saved successfuly\")\n",
    "    return open(output_filepath).read()"
   ]
  },
  {
   "cell_type": "code",
   "execution_count": 25,
   "id": "b4200e1f",
   "metadata": {},
   "outputs": [],
   "source": [
    "nlp = spacy.load(\"en_core_web_sm\")  # Load the language model"
   ]
  },
  {
   "cell_type": "code",
   "execution_count": 26,
   "id": "2fd8c729",
   "metadata": {},
   "outputs": [],
   "source": [
    "result_dict = {\"name\": [], \"phone\": [], \"email\": [], \"skills\": []}\n",
    "names = []\n",
    "phones = []\n",
    "emails = []\n",
    "skills = []"
   ]
  },
  {
   "cell_type": "markdown",
   "id": "6860769a",
   "metadata": {},
   "source": [
    "### regular expressoin for phone number credit to \n",
    "- https://stackoverflow.com/questions/3868753/find-phone-numbers-in-python-script/3868861#3868861"
   ]
  },
  {
   "cell_type": "code",
   "execution_count": 27,
   "id": "ad98eb0e",
   "metadata": {},
   "outputs": [],
   "source": [
    "def parse_content(text):\n",
    "    skillset = re.compile(\"python|java|sql|tableau|excel\")\n",
    "    phone_num = re.compile(\n",
    "    \"(\\d{3}[-\\.\\s]??\\d{3}[-\\.\\s]??\\d{4}|\\(\\d{3}\\)\\s*\\d{3}[-\\.\\s]??\\d{4}|\\d{3}[-\\.\\s]??\\d{4})\"\n",
    "    )\n",
    "    doc = nlp(text)\n",
    "    name = [entity.text for entity in doc.ents if entity.label_ == 'PERSON'][0]\n",
    "    print(name)\n",
    "    email = [word for word in doc if word.like_email == True][0]\n",
    "    print(email)\n",
    "    phone = str(re.findall(phone_num, text.loawer()))\n",
    "    skills_list = re.findall(skillset, text.loawer())\n",
    "    unique_skills_list = str(set(skills_list))\n",
    "    names.append(name)\n",
    "    email.append(email)\n",
    "    phones.append(phone)\n",
    "    skills.append(unique_skills_list)\n",
    "    print(\"Extraction completed successfuly...\")"
   ]
  },
  {
   "cell_type": "code",
   "execution_count": 28,
   "id": "9af8c951",
   "metadata": {},
   "outputs": [
    {
     "name": "stdout",
     "output_type": "stream",
     "text": [
      "Reading...Kareem Al araby ts.pdf\n",
      "output/txt/Kareem Al araby ts.txt  saved successfuly\n"
     ]
    },
    {
     "ename": "UnicodeDecodeError",
     "evalue": "'charmap' codec can't decode byte 0x9d in position 1290: character maps to <undefined>",
     "output_type": "error",
     "traceback": [
      "\u001b[1;31m---------------------------------------------------------------------------\u001b[0m",
      "\u001b[1;31mUnicodeDecodeError\u001b[0m                        Traceback (most recent call last)",
      "\u001b[1;32m<ipython-input-28-815dc2f85ef7>\u001b[0m in \u001b[0;36m<module>\u001b[1;34m\u001b[0m\n\u001b[0;32m      3\u001b[0m     \u001b[1;32mif\u001b[0m \u001b[0mfile\u001b[0m\u001b[1;33m.\u001b[0m\u001b[0mendswith\u001b[0m\u001b[1;33m(\u001b[0m\u001b[1;34m\".pdf\"\u001b[0m\u001b[1;33m)\u001b[0m\u001b[1;33m:\u001b[0m\u001b[1;33m\u001b[0m\u001b[1;33m\u001b[0m\u001b[0m\n\u001b[0;32m      4\u001b[0m         \u001b[0mprint\u001b[0m\u001b[1;33m(\u001b[0m\u001b[1;34m\"Reading...\"\u001b[0m \u001b[1;33m+\u001b[0m \u001b[0mfile\u001b[0m\u001b[1;33m)\u001b[0m\u001b[1;33m\u001b[0m\u001b[1;33m\u001b[0m\u001b[0m\n\u001b[1;32m----> 5\u001b[1;33m         \u001b[0mtxt\u001b[0m \u001b[1;33m=\u001b[0m \u001b[0mconvert_pdf\u001b[0m\u001b[1;33m(\u001b[0m\u001b[0mos\u001b[0m\u001b[1;33m.\u001b[0m\u001b[0mpath\u001b[0m\u001b[1;33m.\u001b[0m\u001b[0mjoin\u001b[0m\u001b[1;33m(\u001b[0m\u001b[1;34m\"resumes/\"\u001b[0m\u001b[1;33m,\u001b[0m \u001b[0mfile\u001b[0m\u001b[1;33m)\u001b[0m\u001b[1;33m)\u001b[0m\u001b[1;33m\u001b[0m\u001b[1;33m\u001b[0m\u001b[0m\n\u001b[0m\u001b[0;32m      6\u001b[0m         \u001b[0mparse_content\u001b[0m\u001b[1;33m(\u001b[0m\u001b[0mtxt\u001b[0m\u001b[1;33m)\u001b[0m\u001b[1;33m\u001b[0m\u001b[1;33m\u001b[0m\u001b[0m\n",
      "\u001b[1;32m<ipython-input-24-a6a4a6cd8d18>\u001b[0m in \u001b[0;36mconvert_pdf\u001b[1;34m(f)\u001b[0m\n\u001b[0;32m      4\u001b[0m     \u001b[0mpdf2txt\u001b[0m\u001b[1;33m.\u001b[0m\u001b[0mmain\u001b[0m\u001b[1;33m(\u001b[0m\u001b[0margs\u001b[0m\u001b[1;33m=\u001b[0m\u001b[1;33m[\u001b[0m\u001b[0mf\u001b[0m\u001b[1;33m,\u001b[0m \u001b[1;34m\"--outfile\"\u001b[0m\u001b[1;33m,\u001b[0m \u001b[0moutput_filepath\u001b[0m\u001b[1;33m]\u001b[0m\u001b[1;33m)\u001b[0m \u001b[1;31m# pdf to text and save\u001b[0m\u001b[1;33m\u001b[0m\u001b[1;33m\u001b[0m\u001b[0m\n\u001b[0;32m      5\u001b[0m     \u001b[0mprint\u001b[0m\u001b[1;33m(\u001b[0m\u001b[0moutput_filepath\u001b[0m \u001b[1;33m+\u001b[0m \u001b[1;34m\" \"\u001b[0m \u001b[1;33m+\u001b[0m\u001b[1;34m\" saved successfuly\"\u001b[0m\u001b[1;33m)\u001b[0m\u001b[1;33m\u001b[0m\u001b[1;33m\u001b[0m\u001b[0m\n\u001b[1;32m----> 6\u001b[1;33m     \u001b[1;32mreturn\u001b[0m \u001b[0mopen\u001b[0m\u001b[1;33m(\u001b[0m\u001b[0moutput_filepath\u001b[0m\u001b[1;33m)\u001b[0m\u001b[1;33m.\u001b[0m\u001b[0mread\u001b[0m\u001b[1;33m(\u001b[0m\u001b[1;33m)\u001b[0m\u001b[1;33m\u001b[0m\u001b[1;33m\u001b[0m\u001b[0m\n\u001b[0m",
      "\u001b[1;32m~\\anaconda3\\envs\\data_invest\\lib\\encodings\\cp1252.py\u001b[0m in \u001b[0;36mdecode\u001b[1;34m(self, input, final)\u001b[0m\n\u001b[0;32m     21\u001b[0m \u001b[1;32mclass\u001b[0m \u001b[0mIncrementalDecoder\u001b[0m\u001b[1;33m(\u001b[0m\u001b[0mcodecs\u001b[0m\u001b[1;33m.\u001b[0m\u001b[0mIncrementalDecoder\u001b[0m\u001b[1;33m)\u001b[0m\u001b[1;33m:\u001b[0m\u001b[1;33m\u001b[0m\u001b[1;33m\u001b[0m\u001b[0m\n\u001b[0;32m     22\u001b[0m     \u001b[1;32mdef\u001b[0m \u001b[0mdecode\u001b[0m\u001b[1;33m(\u001b[0m\u001b[0mself\u001b[0m\u001b[1;33m,\u001b[0m \u001b[0minput\u001b[0m\u001b[1;33m,\u001b[0m \u001b[0mfinal\u001b[0m\u001b[1;33m=\u001b[0m\u001b[1;32mFalse\u001b[0m\u001b[1;33m)\u001b[0m\u001b[1;33m:\u001b[0m\u001b[1;33m\u001b[0m\u001b[1;33m\u001b[0m\u001b[0m\n\u001b[1;32m---> 23\u001b[1;33m         \u001b[1;32mreturn\u001b[0m \u001b[0mcodecs\u001b[0m\u001b[1;33m.\u001b[0m\u001b[0mcharmap_decode\u001b[0m\u001b[1;33m(\u001b[0m\u001b[0minput\u001b[0m\u001b[1;33m,\u001b[0m\u001b[0mself\u001b[0m\u001b[1;33m.\u001b[0m\u001b[0merrors\u001b[0m\u001b[1;33m,\u001b[0m\u001b[0mdecoding_table\u001b[0m\u001b[1;33m)\u001b[0m\u001b[1;33m[\u001b[0m\u001b[1;36m0\u001b[0m\u001b[1;33m]\u001b[0m\u001b[1;33m\u001b[0m\u001b[1;33m\u001b[0m\u001b[0m\n\u001b[0m\u001b[0;32m     24\u001b[0m \u001b[1;33m\u001b[0m\u001b[0m\n\u001b[0;32m     25\u001b[0m \u001b[1;32mclass\u001b[0m \u001b[0mStreamWriter\u001b[0m\u001b[1;33m(\u001b[0m\u001b[0mCodec\u001b[0m\u001b[1;33m,\u001b[0m\u001b[0mcodecs\u001b[0m\u001b[1;33m.\u001b[0m\u001b[0mStreamWriter\u001b[0m\u001b[1;33m)\u001b[0m\u001b[1;33m:\u001b[0m\u001b[1;33m\u001b[0m\u001b[1;33m\u001b[0m\u001b[0m\n",
      "\u001b[1;31mUnicodeDecodeError\u001b[0m: 'charmap' codec can't decode byte 0x9d in position 1290: character maps to <undefined>"
     ]
    }
   ],
   "source": [
    "#iterating the folder \"resumes\" for multiple files \n",
    "for file in os.listdir(\"resumes/\"):\n",
    "    if file.endswith(\".pdf\"):\n",
    "        print(\"Reading...\" + file)\n",
    "        txt = convert_pdf(os.path.join(\"resumes/\", file))\n",
    "        parse_content(txt)"
   ]
  },
  {
   "cell_type": "code",
   "execution_count": null,
   "id": "3d4ecb59",
   "metadata": {},
   "outputs": [],
   "source": []
  }
 ],
 "metadata": {
  "kernelspec": {
   "display_name": "Python 3",
   "language": "python",
   "name": "python3"
  },
  "language_info": {
   "codemirror_mode": {
    "name": "ipython",
    "version": 3
   },
   "file_extension": ".py",
   "mimetype": "text/x-python",
   "name": "python",
   "nbconvert_exporter": "python",
   "pygments_lexer": "ipython3",
   "version": "3.8.5"
  }
 },
 "nbformat": 4,
 "nbformat_minor": 5
}
