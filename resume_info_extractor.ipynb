{
 "cells": [
  {
   "cell_type": "markdown",
   "id": "18b36911",
   "metadata": {},
   "source": [
    "### for spacy installation use this link \n",
    "- https://spacy.io/usage"
   ]
  },
  {
   "cell_type": "markdown",
   "id": "c7ac9607",
   "metadata": {},
   "source": [
    "### Most used re \"regex\" package methods\n",
    "- re.match()\n",
    "- re.search()\n",
    "- re.find_all()\n",
    "- re.split()\n",
    "- re.sub()\n",
    "- re.compile()"
   ]
  },
  {
   "cell_type": "code",
   "execution_count": 1,
   "id": "4d72b379",
   "metadata": {},
   "outputs": [],
   "source": [
    "#importing libraries\n",
    "import pdfminer  # pdf2txt\n",
    "import pandas as pd  # data manipulation\n",
    "import re   # regular exression manipulation\n",
    "import os   # operating system commands\n",
    "import spacy  #NLP  \"natural language processing\"\n",
    "import time  # just for the naming of the output CSV"
   ]
  },
  {
   "cell_type": "code",
   "execution_count": 2,
   "id": "1cdd0c69",
   "metadata": {},
   "outputs": [],
   "source": [
    "import pdf2txt #import the file we downloaded from pdfminer repo"
   ]
  },
  {
   "cell_type": "markdown",
   "id": "d86ab577",
   "metadata": {},
   "source": [
    "## converting pdf to text"
   ]
  },
  {
   "cell_type": "code",
   "execution_count": 3,
   "id": "bf48bed1",
   "metadata": {},
   "outputs": [],
   "source": [
    "def convert_pdf(f):\n",
    "    output_filename = os.path.basename(os.path.splitext(f)[0]) + \".txt\"\n",
    "    output_filepath = os.path.join(\"output/txt/\", output_filename)\n",
    "    pdf2txt.main(args=[f, \"--outfile\", output_filepath]) # pdf to text and save\n",
    "    print(output_filepath + \" \" +\"saved successfuly\")\n",
    "    return open(output_filepath, encoding='utf8').read()"
   ]
  },
  {
   "cell_type": "code",
   "execution_count": 4,
   "id": "4b6c7fff",
   "metadata": {},
   "outputs": [],
   "source": [
    "nlp = spacy.load(\"en_core_web_sm\")  # Load the language model"
   ]
  },
  {
   "cell_type": "code",
   "execution_count": 5,
   "id": "d8b27101",
   "metadata": {},
   "outputs": [],
   "source": [
    "result_dict = {\"name\": [], \"phone\": [], \"email\": [], \"skills\": []}\n",
    "names = []\n",
    "phones = []\n",
    "emails = []\n",
    "skills = []"
   ]
  },
  {
   "cell_type": "markdown",
   "id": "3ed3dec6",
   "metadata": {},
   "source": [
    "### regular expressoin for phone number credit to \n",
    "- https://stackoverflow.com/questions/3868753/find-phone-numbers-in-python-script/3868861#3868861"
   ]
  },
  {
   "cell_type": "code",
   "execution_count": 6,
   "id": "b1749a74",
   "metadata": {},
   "outputs": [],
   "source": [
    "def parse_content(text):\n",
    "    skillset = re.compile(\"python|java|sql|tableau|excel\")\n",
    "    phone_num = re.compile(\n",
    "    \"(\\d{3}[-\\.\\s]??\\d{3}[-\\.\\s]??\\d{4}|\\(\\d{3}\\)\\s*\\d{3}[-\\.\\s]??\\d{4}|\\d{3}[-\\.\\s]??\\d{4})\"\n",
    "    )\n",
    "    #phone_num = re.compile(\"phone|mobile|contact\")\n",
    "    doc = nlp(text)\n",
    "    name = [entity.text for entity in doc.ents if entity.label_ == 'PERSON'][0]\n",
    "    print(name)\n",
    "    email = [word for word in doc if word.like_email == True][0]\n",
    "    print(email)\n",
    "    phone = str(re.findall(phone_num, text.lower()))\n",
    "    skills_list = re.findall(skillset, text.lower())\n",
    "    unique_skills_list = str(set(skills_list))\n",
    "    names.append(name)\n",
    "    emails.append(email)\n",
    "    phones.append(phone)\n",
    "    skills.append(unique_skills_list)\n",
    "    print(\"Extraction completed successfuly...\\n\")"
   ]
  },
  {
   "cell_type": "code",
   "execution_count": 7,
   "id": "68b8935c",
   "metadata": {},
   "outputs": [
    {
     "name": "stdout",
     "output_type": "stream",
     "text": [
      "Reading...Kareem Al araby Analyst.pdf\n",
      "output/txt/Kareem Al araby Analyst.txt saved successfuly\n",
      "Kareem Al Araby\n",
      "kareem722@gmail.com\n",
      "Extraction completed successfuly...\n",
      "\n",
      "Reading...Kareem Al araby ts.pdf\n",
      "output/txt/Kareem Al araby ts.txt saved successfuly\n",
      "Kareem Al Araby\n",
      "kareem722@gmail.com\n",
      "Extraction completed successfuly...\n",
      "\n"
     ]
    }
   ],
   "source": [
    "#iterating the folder \"resumes\" for multiple files \n",
    "for file in os.listdir(\"resumes/\"):\n",
    "    if file.endswith(\".pdf\"):\n",
    "        print(\"Reading...\" + file)\n",
    "        txt = convert_pdf(os.path.join(\"resumes/\", file))\n",
    "        parse_content(txt)"
   ]
  },
  {
   "cell_type": "markdown",
   "id": "7eadab05",
   "metadata": {},
   "source": [
    "# Building the dictionary"
   ]
  },
  {
   "cell_type": "code",
   "execution_count": 8,
   "id": "307c56de",
   "metadata": {},
   "outputs": [],
   "source": [
    "result_dict['name'] = names\n",
    "result_dict['phone'] = phones\n",
    "result_dict['email'] = emails\n",
    "result_dict['skills'] = skills"
   ]
  },
  {
   "cell_type": "code",
   "execution_count": 9,
   "id": "15b6f8df",
   "metadata": {},
   "outputs": [
    {
     "data": {
      "text/plain": [
       "{'name': ['Kareem Al Araby', 'Kareem Al Araby'],\n",
       " 'phone': [\"['2015559289']\", \"['2015559289']\"],\n",
       " 'email': [kareem722@gmail.com, kareem722@gmail.com],\n",
       " 'skills': [\"{'sql', 'excel', 'python', 'tableau'}\",\n",
       "  \"{'sql', 'excel', 'python', 'tableau'}\"]}"
      ]
     },
     "execution_count": 9,
     "metadata": {},
     "output_type": "execute_result"
    }
   ],
   "source": [
    "result_dict"
   ]
  },
  {
   "cell_type": "markdown",
   "id": "59347410",
   "metadata": {},
   "source": [
    "# Building a DataFrame from the dictionary"
   ]
  },
  {
   "cell_type": "code",
   "execution_count": 10,
   "id": "5ecc1691",
   "metadata": {},
   "outputs": [
    {
     "data": {
      "text/html": [
       "<div>\n",
       "<style scoped>\n",
       "    .dataframe tbody tr th:only-of-type {\n",
       "        vertical-align: middle;\n",
       "    }\n",
       "\n",
       "    .dataframe tbody tr th {\n",
       "        vertical-align: top;\n",
       "    }\n",
       "\n",
       "    .dataframe thead th {\n",
       "        text-align: right;\n",
       "    }\n",
       "</style>\n",
       "<table border=\"1\" class=\"dataframe\">\n",
       "  <thead>\n",
       "    <tr style=\"text-align: right;\">\n",
       "      <th></th>\n",
       "      <th>name</th>\n",
       "      <th>phone</th>\n",
       "      <th>email</th>\n",
       "      <th>skills</th>\n",
       "    </tr>\n",
       "  </thead>\n",
       "  <tbody>\n",
       "    <tr>\n",
       "      <th>0</th>\n",
       "      <td>Kareem Al Araby</td>\n",
       "      <td>['2015559289']</td>\n",
       "      <td>kareem722@gmail.com</td>\n",
       "      <td>{'sql', 'excel', 'python', 'tableau'}</td>\n",
       "    </tr>\n",
       "    <tr>\n",
       "      <th>1</th>\n",
       "      <td>Kareem Al Araby</td>\n",
       "      <td>['2015559289']</td>\n",
       "      <td>kareem722@gmail.com</td>\n",
       "      <td>{'sql', 'excel', 'python', 'tableau'}</td>\n",
       "    </tr>\n",
       "  </tbody>\n",
       "</table>\n",
       "</div>"
      ],
      "text/plain": [
       "              name           phone                email  \\\n",
       "0  Kareem Al Araby  ['2015559289']  kareem722@gmail.com   \n",
       "1  Kareem Al Araby  ['2015559289']  kareem722@gmail.com   \n",
       "\n",
       "                                  skills  \n",
       "0  {'sql', 'excel', 'python', 'tableau'}  \n",
       "1  {'sql', 'excel', 'python', 'tableau'}  "
      ]
     },
     "execution_count": 10,
     "metadata": {},
     "output_type": "execute_result"
    }
   ],
   "source": [
    "result_df = pd.DataFrame(result_dict)\n",
    "result_df"
   ]
  },
  {
   "cell_type": "markdown",
   "id": "856b0a7c",
   "metadata": {},
   "source": [
    "# Constructing the file name"
   ]
  },
  {
   "cell_type": "code",
   "execution_count": 45,
   "id": "4d67fbe6",
   "metadata": {},
   "outputs": [],
   "source": [
    "# Here i used hyphin instead of slash to avoid windows reading slash as path separator\n",
    "now = str(time.strftime(\"%d-%m-%Y\")+ '.csv')\n",
    "# bulding the file naming arguments\n",
    "csv_path = 'output/csv/'\n",
    "csv_name = 'parsed_resumes '"
   ]
  },
  {
   "cell_type": "code",
   "execution_count": 46,
   "id": "079f97a2",
   "metadata": {},
   "outputs": [],
   "source": [
    "# constructing the file name from the arguments above \n",
    "arg_for_expt = csv_path+csv_name+now"
   ]
  },
  {
   "cell_type": "code",
   "execution_count": 47,
   "id": "3b86ac7b",
   "metadata": {},
   "outputs": [],
   "source": [
    "# converting the DataFrame to a CSV for work collaboration\n",
    "result_df.to_csv(arg_for_expt)"
   ]
  },
  {
   "cell_type": "code",
   "execution_count": 17,
   "id": "59542d74",
   "metadata": {},
   "outputs": [
    {
     "data": {
      "text/plain": [
       "'16/10/2021'"
      ]
     },
     "execution_count": 17,
     "metadata": {},
     "output_type": "execute_result"
    }
   ],
   "source": []
  }
 ],
 "metadata": {
  "kernelspec": {
   "display_name": "Python 3 (ipykernel)",
   "language": "python",
   "name": "python3"
  },
  "language_info": {
   "codemirror_mode": {
    "name": "ipython",
    "version": 3
   },
   "file_extension": ".py",
   "mimetype": "text/x-python",
   "name": "python",
   "nbconvert_exporter": "python",
   "pygments_lexer": "ipython3",
   "version": "3.8.12"
  }
 },
 "nbformat": 4,
 "nbformat_minor": 5
}
