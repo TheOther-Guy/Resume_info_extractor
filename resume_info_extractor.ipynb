{
 "cells": [
  {
   "cell_type": "markdown",
   "id": "1128191d",
   "metadata": {},
   "source": [
    "### for spacy installation use this link \n",
    "- https://spacy.io/usage"
   ]
  },
  {
   "cell_type": "markdown",
   "id": "5c4775a4",
   "metadata": {},
   "source": [
    "### Most used re \"regex\" package methods\n",
    "- re.match()\n",
    "- re.search()\n",
    "- re.find_all()\n",
    "- re.split()\n",
    "- re.sub()\n",
    "- re.compile()"
   ]
  },
  {
   "cell_type": "code",
   "execution_count": 1,
   "id": "881dae5f",
   "metadata": {},
   "outputs": [],
   "source": [
    "#importing libraries\n",
    "import pdfminer\n",
    "import pandas as pd\n",
    "import re\n",
    "import os\n",
    "import spacy"
   ]
  },
  {
   "cell_type": "markdown",
   "id": "79e3d469",
   "metadata": {},
   "source": [
    "### Load English Tokenizer"
   ]
  },
  {
   "cell_type": "code",
   "execution_count": 2,
   "id": "5de89102",
   "metadata": {},
   "outputs": [],
   "source": [
    "nlp = spacy.load('en_core_web_sm')\n"
   ]
  },
  {
   "cell_type": "code",
   "execution_count": null,
   "id": "ef4fe85b",
   "metadata": {},
   "outputs": [],
   "source": []
  }
 ],
 "metadata": {
  "kernelspec": {
   "display_name": "Python 3",
   "language": "python",
   "name": "python3"
  },
  "language_info": {
   "codemirror_mode": {
    "name": "ipython",
    "version": 3
   },
   "file_extension": ".py",
   "mimetype": "text/x-python",
   "name": "python",
   "nbconvert_exporter": "python",
   "pygments_lexer": "ipython3",
   "version": "3.8.5"
  }
 },
 "nbformat": 4,
 "nbformat_minor": 5
}
