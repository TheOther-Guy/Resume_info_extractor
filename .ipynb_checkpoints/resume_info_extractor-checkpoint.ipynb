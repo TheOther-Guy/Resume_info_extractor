{
 "cells": [
  {
   "cell_type": "markdown",
   "id": "74d698e7",
   "metadata": {},
   "source": [
    "### for spacy installation use this link \n",
    "- https://spacy.io/usage"
   ]
  },
  {
   "cell_type": "markdown",
   "id": "3f0dda7c-4bc8-422d-ab33-6da862be38c3",
   "metadata": {},
   "source": [
    "### use this line to install python docx package if you need to convert files to docx format\n",
    "- pip install python-docx"
   ]
  },
  {
   "cell_type": "markdown",
   "id": "f556f8b4",
   "metadata": {},
   "source": [
    "### Most used re \"regex\" package methods\n",
    "- re.match()\n",
    "- re.search()\n",
    "- re.find_all()\n",
    "- re.split()\n",
    "- re.sub()\n",
    "- re.compile()"
   ]
  },
  {
   "cell_type": "code",
   "execution_count": 1,
   "id": "63460818",
   "metadata": {},
   "outputs": [],
   "source": [
    "#importing libraries\n",
    "import pdfminer  # pdf2txt\n",
    "import pandas as pd  # data manipulation\n",
    "import re   # regular exression manipulation\n",
    "import os   # operating system commands\n",
    "import spacy  #NLP  \"natural language processing\"\n",
    "import time  # just for the naming of the output CSV\n",
    "from docx import Document"
   ]
  },
  {
   "cell_type": "code",
   "execution_count": 2,
   "id": "df464e4b",
   "metadata": {},
   "outputs": [],
   "source": [
    "import pdf2txt #import the file we downloaded from pdfminer repo"
   ]
  },
  {
   "cell_type": "markdown",
   "id": "2e4f026c",
   "metadata": {},
   "source": [
    "## converting pdf to text\n",
    "- Switch between the next 2 cells foor txt output or word doc"
   ]
  },
  {
   "cell_type": "markdown",
   "id": "433b4b48-d700-4e7a-a94d-78c78e9bd4ca",
   "metadata": {},
   "source": [
    "# convert to txt file\n",
    "def convert_pdf(f):\n",
    "    output_filename = os.path.basename(os.path.splitext(f)[0]) + \".txt\"\n",
    "    output_filepath = os.path.join(\"output/txt/\", output_filename)\n",
    "    pdf2txt.main(args=[f, \"--outfile\", output_filepath]) # pdf to text and save\n",
    "    print(output_filepath + \" \" +\"saved successfuly\")\n",
    "    return open(output_filepath, encoding='utf8').read()"
   ]
  },
  {
   "cell_type": "code",
   "execution_count": 3,
   "id": "ac3e126c-5f7a-4519-9b34-9405335781bb",
   "metadata": {},
   "outputs": [],
   "source": [
    "# convert to word doc 97-2003\n",
    "def convert_pdf(f):\n",
    "    output_filename = os.path.basename(os.path.splitext(f)[0]) + \".doc\"\n",
    "    output_filepath = os.path.join(\"output/doc/\", output_filename)\n",
    "    pdf2txt.main(args=[f, \"--outfile\", output_filepath]) # pdf to text and save\n",
    "    print(output_filepath + \" \" +\"saved successfuly\")\n",
    "    return open(output_filepath, encoding='utf8').read()"
   ]
  },
  {
   "cell_type": "code",
   "execution_count": 4,
   "id": "ec320d2d",
   "metadata": {},
   "outputs": [],
   "source": [
    "nlp = spacy.load(\"en_core_web_sm\")  # Load the language model"
   ]
  },
  {
   "cell_type": "code",
   "execution_count": 5,
   "id": "b3c42dc8",
   "metadata": {},
   "outputs": [],
   "source": [
    "result_dict = {\"name\": [], \"phone\": [], \"email\": [], \"skills\": []}\n",
    "names = []\n",
    "phones = []\n",
    "emails = []\n",
    "skills = []"
   ]
  },
  {
   "cell_type": "markdown",
   "id": "3bde864a",
   "metadata": {},
   "source": [
    "### regular expressoin for phone number credit to \n",
    "- https://stackoverflow.com/questions/3868753/find-phone-numbers-in-python-script/3868861#3868861"
   ]
  },
  {
   "cell_type": "code",
   "execution_count": 6,
   "id": "94e4f38c",
   "metadata": {},
   "outputs": [],
   "source": [
    "def parse_content(text):\n",
    "    skillset = re.compile(\"python|java|sql|tableau|excel\")\n",
    "    phone_num = re.compile(\n",
    "    \"(\\d{3}[-\\.\\s]??\\d{3}[-\\.\\s]??\\d{4}|\\(\\d{3}\\)\\s*\\d{3}[-\\.\\s]??\\d{4}|\\d{3}[-\\.\\s]??\\d{4})\"\n",
    "    )\n",
    "    #phone_num = re.compile(\"phone|mobile|contact\")\n",
    "    doc = nlp(text)\n",
    "    name = [entity.text for entity in doc.ents if entity.label_ == 'PERSON'][0]\n",
    "    print(name)\n",
    "    email = [word for word in doc if word.like_email == True][0]\n",
    "    print(email)\n",
    "    phone = str(re.findall(phone_num, text.lower()))\n",
    "    skills_list = re.findall(skillset, text.lower())\n",
    "    unique_skills_list = str(set(skills_list))\n",
    "    names.append(name)\n",
    "    emails.append(email)\n",
    "    phones.append(phone)\n",
    "    skills.append(unique_skills_list)\n",
    "    print(\"Extraction completed successfuly...\\n\")"
   ]
  },
  {
   "cell_type": "code",
   "execution_count": 7,
   "id": "25224392",
   "metadata": {},
   "outputs": [
    {
     "name": "stdout",
     "output_type": "stream",
     "text": [
      "Reading...Kareem Al araby Analyst.pdf\n",
      "output/doc/Kareem Al araby Analyst.doc saved successfuly\n",
      "Nano Degree\n",
      "kareem722@gmail.com\n",
      "Extraction completed successfuly...\n",
      "\n",
      "Reading...Kareem Al araby ts.pdf\n",
      "output/doc/Kareem Al araby ts.doc saved successfuly\n",
      "Nano Degree\n",
      "kareem722@gmail.com\n",
      "Extraction completed successfuly...\n",
      "\n"
     ]
    }
   ],
   "source": [
    "#iterating the folder \"resumes\" for multiple files \n",
    "for file in os.listdir(\"resumes/\"):\n",
    "    if file.endswith(\".pdf\"):\n",
    "        print(\"Reading...\" + file)\n",
    "        txt = convert_pdf(os.path.join(\"resumes/\", file))\n",
    "        parse_content(txt)"
   ]
  },
  {
   "cell_type": "markdown",
   "id": "35d42670",
   "metadata": {},
   "source": [
    "# Building the dictionary"
   ]
  },
  {
   "cell_type": "code",
   "execution_count": 8,
   "id": "729ce6d4",
   "metadata": {},
   "outputs": [],
   "source": [
    "result_dict['name'] = names\n",
    "result_dict['phone'] = phones\n",
    "result_dict['email'] = emails\n",
    "result_dict['skills'] = skills"
   ]
  },
  {
   "cell_type": "markdown",
   "id": "2410a4fe",
   "metadata": {},
   "source": [
    "# Building a DataFrame from the dictionary"
   ]
  },
  {
   "cell_type": "code",
   "execution_count": 9,
   "id": "a80614f6",
   "metadata": {},
   "outputs": [],
   "source": [
    "result_df = pd.DataFrame(result_dict)"
   ]
  },
  {
   "cell_type": "code",
   "execution_count": 10,
   "id": "eb28b69c-3944-4d5c-b88f-b336fc6e8046",
   "metadata": {},
   "outputs": [
    {
     "data": {
      "text/html": [
       "<div>\n",
       "<style scoped>\n",
       "    .dataframe tbody tr th:only-of-type {\n",
       "        vertical-align: middle;\n",
       "    }\n",
       "\n",
       "    .dataframe tbody tr th {\n",
       "        vertical-align: top;\n",
       "    }\n",
       "\n",
       "    .dataframe thead th {\n",
       "        text-align: right;\n",
       "    }\n",
       "</style>\n",
       "<table border=\"1\" class=\"dataframe\">\n",
       "  <thead>\n",
       "    <tr style=\"text-align: right;\">\n",
       "      <th></th>\n",
       "      <th>name</th>\n",
       "      <th>phone</th>\n",
       "      <th>email</th>\n",
       "      <th>skills</th>\n",
       "    </tr>\n",
       "  </thead>\n",
       "  <tbody>\n",
       "    <tr>\n",
       "      <th>0</th>\n",
       "      <td>Nano Degree</td>\n",
       "      <td>['2015559289']</td>\n",
       "      <td>kareem722@gmail.com</td>\n",
       "      <td>{'sql', 'excel', 'tableau', 'python'}</td>\n",
       "    </tr>\n",
       "    <tr>\n",
       "      <th>1</th>\n",
       "      <td>Nano Degree</td>\n",
       "      <td>['2015559289']</td>\n",
       "      <td>kareem722@gmail.com</td>\n",
       "      <td>{'sql', 'excel', 'tableau', 'python'}</td>\n",
       "    </tr>\n",
       "  </tbody>\n",
       "</table>\n",
       "</div>"
      ],
      "text/plain": [
       "          name           phone                email  \\\n",
       "0  Nano Degree  ['2015559289']  kareem722@gmail.com   \n",
       "1  Nano Degree  ['2015559289']  kareem722@gmail.com   \n",
       "\n",
       "                                  skills  \n",
       "0  {'sql', 'excel', 'tableau', 'python'}  \n",
       "1  {'sql', 'excel', 'tableau', 'python'}  "
      ]
     },
     "execution_count": 10,
     "metadata": {},
     "output_type": "execute_result"
    }
   ],
   "source": [
    "result_df"
   ]
  },
  {
   "cell_type": "markdown",
   "id": "15e87587",
   "metadata": {},
   "source": [
    "# Constructing the file name"
   ]
  },
  {
   "cell_type": "code",
   "execution_count": 11,
   "id": "65bbcaad",
   "metadata": {},
   "outputs": [],
   "source": [
    "# Here i used hyphin instead of slash to avoid windows reading slash as path separator\n",
    "now = str(time.strftime(\"%d-%m-%Y\")+ '.csv') # This will add the date of today to the file name\n",
    "# bulding the file naming arguments\n",
    "csv_path = 'output/csv/'\n",
    "csv_name = 'parsed_resumes '"
   ]
  },
  {
   "cell_type": "code",
   "execution_count": 12,
   "id": "ced089ff",
   "metadata": {},
   "outputs": [],
   "source": [
    "# constructing the file name from the arguments above \n",
    "arg_for_expt = csv_path+csv_name+now\n"
   ]
  },
  {
   "cell_type": "code",
   "execution_count": 13,
   "id": "2494e289",
   "metadata": {},
   "outputs": [
    {
     "name": "stdout",
     "output_type": "stream",
     "text": [
      "Converted file to csv...\n"
     ]
    }
   ],
   "source": [
    "# converting the DataFrame to a CSV for work collaboration\n",
    "result_df.to_csv(arg_for_expt)\n",
    "print(\"Converted file to csv...\")"
   ]
  }
 ],
 "metadata": {
  "kernelspec": {
   "display_name": "Python 3",
   "language": "python",
   "name": "python3"
  },
  "language_info": {
   "codemirror_mode": {
    "name": "ipython",
    "version": 3
   },
   "file_extension": ".py",
   "mimetype": "text/x-python",
   "name": "python",
   "nbconvert_exporter": "python",
   "pygments_lexer": "ipython3",
   "version": "3.8.8"
  }
 },
 "nbformat": 4,
 "nbformat_minor": 5
}
